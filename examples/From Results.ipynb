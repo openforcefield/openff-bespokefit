{
 "cells": [
  {
   "cell_type": "code",
   "execution_count": 1,
   "metadata": {},
   "outputs": [],
   "source": [
    "from openff.qcsubmit.results import TorsionDriveCollectionResult\n",
    "from openff.bespokefit.workflow import WorkflowFactory\n",
    "from openff.bespokefit.optimizers import ForceBalanceOptimizer\n",
    "from openff.bespokefit.targets import TorsionProfile_SMIRNOFF\n",
    "from qcfractal.interface import FractalClient"
   ]
  },
  {
   "cell_type": "code",
   "execution_count": 2,
   "metadata": {},
   "outputs": [],
   "source": [
    "# build the fitting schema\n",
    "workflow = WorkflowFactory(initial_forcefield=\"openff_unconstrained-1.3.0.offxml\")"
   ]
  },
  {
   "cell_type": "code",
   "execution_count": 3,
   "metadata": {},
   "outputs": [
    {
     "data": {
      "text/plain": "{'optimizer_name': 'ForceBalanceOptimizer',\n 'optimizer_description': 'A systematic force field optimization tool: https://github.com/leeping/forcebalance',\n 'optimization_targets': [],\n 'penalty_type': 'L1',\n 'job_type': 'optimize',\n 'max_iterations': 10,\n 'convergence_step_criteria': 0.01,\n 'convergence_objective_criteria': 0.01,\n 'convergence_gradient_criteria': 0.01,\n 'n_criteria': 2,\n 'eig_lowerbound': 0.01,\n 'finite_difference_h': 0.01,\n 'penalty_additive': 1.0,\n 'constrain_charge': False,\n 'initial_trust_radius': -0.25,\n 'minimum_trust_radius': 0.05,\n 'error_tolerance': 1.0,\n 'adaptive_factor': 0.2,\n 'adaptive_damping': 1.0,\n 'normalize_weights': False,\n 'extras': {}}"
     },
     "execution_count": 3,
     "metadata": {},
     "output_type": "execute_result"
    }
   ],
   "source": [
    "# build the optimizer and settings\n",
    "fb = ForceBalanceOptimizer()\n",
    "fb.dict()"
   ]
  },
  {
   "cell_type": "code",
   "execution_count": 4,
   "metadata": {},
   "outputs": [],
   "source": [
    "# make a target, the settings should be fine\n",
    "target = TorsionProfile_SMIRNOFF()"
   ]
  },
  {
   "cell_type": "code",
   "execution_count": 5,
   "metadata": {},
   "outputs": [
    {
     "data": {
      "text/plain": "{'initial_forcefield': 'openff_unconstrained-1.3.0.offxml',\n 'expand_torsion_terms': True,\n 'generate_bespoke_terms': True,\n 'optimizer': {'optimizer_name': 'ForceBalanceOptimizer',\n  'optimizer_description': 'A systematic force field optimization tool: https://github.com/leeping/forcebalance',\n  'optimization_targets': [{'name': 'TorsionProfile_SMIRNOFF',\n    'description': 'Single point energy and gradient fitting with constrained relaxation, for torsiondrives only.',\n    'collection_workflow': 'torsion1d',\n    'target_conformers': 4,\n    'keywords': {'writelevel': 2,\n     'mol2': 'molecule.mol2',\n     'pdb': 'molecule.pdb',\n     'coords': 'scan.xyz',\n     'attenuate': None,\n     'energy_denom': 1.0,\n     'energy_upper': 10.0,\n     'openmm_platform': 'Reference'},\n    'weight': 1.0,\n    'qc_spec': {'method': 'B3LYP-D3BJ',\n     'basis': 'DZVP',\n     'program': 'psi4',\n     'spec_name': 'default',\n     'spec_description': 'Standard OpenFF optimization quantum chemistry specification.',\n     'store_wavefunction': 'none',\n     'implicit_solvent': None},\n    'grid_spacings': [15],\n    'energy_upper_limit': 0.05,\n    'fit_gradient': False}],\n  'penalty_type': 'L1',\n  'job_type': 'optimize',\n  'max_iterations': 10,\n  'convergence_step_criteria': 0.01,\n  'convergence_objective_criteria': 0.01,\n  'convergence_gradient_criteria': 0.01,\n  'n_criteria': 2,\n  'eig_lowerbound': 0.01,\n  'finite_difference_h': 0.01,\n  'penalty_additive': 1.0,\n  'constrain_charge': False,\n  'initial_trust_radius': -0.25,\n  'minimum_trust_radius': 0.05,\n  'error_tolerance': 1.0,\n  'adaptive_factor': 0.2,\n  'adaptive_damping': 1.0,\n  'normalize_weights': False,\n  'extras': {}},\n 'fragmentation_engine': {'fragmentation_engine': 'WBOFragmenter',\n  'description': 'Fragment a molecule across all rotatable bonds using the WBO fragmenter.',\n  'wbo_threshold': 0.03,\n  'keep_non_rotor_ring_substituents': True},\n 'target_parameters': [{'parameter_type': 'ProperTorsions',\n   'parameter_subtype': 'Proper',\n   'target': 'k',\n   'prior': 6.0}],\n 'target_smirks': [<SmirksType.ProperTorsions: 'ProperTorsions'>]}"
     },
     "execution_count": 5,
     "metadata": {},
     "output_type": "execute_result"
    }
   ],
   "source": [
    "# put these in the workflow\n",
    "fb.set_optimization_target(target=target)\n",
    "workflow.set_optimizer(optimizer=fb)\n",
    "# you can see in the settings proper torsions are being targeted with bespoke smirks.\n",
    "workflow.dict()"
   ]
  },
  {
   "cell_type": "code",
   "execution_count": 6,
   "metadata": {},
   "outputs": [
    {
     "data": {
      "text/plain": "                                                                                                                  tagline\ncollection          name                                                                                                 \nTorsionDriveDataset Fragment Stability Benchmark                                                                     None\n                    Fragmenter paper                                                                                 None\n                    OpenFF DANCE 1 eMolecules t142 v1.0                                                              None\n                    OpenFF Fragmenter Validation 1.0                                                                 None\n                    OpenFF Full TorsionDrive Benchmark 1                                                             None\n                    OpenFF Gen 2 Torsion Set 1 Roche                                                                 None\n                    OpenFF Gen 2 Torsion Set 1 Roche 2                                                               None\n                    OpenFF Gen 2 Torsion Set 2 Coverage                                                              None\n                    OpenFF Gen 2 Torsion Set 2 Coverage 2                                                            None\n                    OpenFF Gen 2 Torsion Set 3 Pfizer Discrepancy                                                    None\n                    OpenFF Gen 2 Torsion Set 3 Pfizer Discrepancy 2                                                  None\n                    OpenFF Gen 2 Torsion Set 4 eMolecules Discrepancy                                                None\n                    OpenFF Gen 2 Torsion Set 4 eMolecules Discrepan...                                               None\n                    OpenFF Gen 2 Torsion Set 5 Bayer                                                                 None\n                    OpenFF Gen 2 Torsion Set 5 Bayer 2                                                               None\n                    OpenFF Gen 2 Torsion Set 6 Supplemental                                                          None\n                    OpenFF Gen 2 Torsion Set 6 Supplemental 2                                                        None\n                    OpenFF Group1 Torsions                                                                           None\n                    OpenFF Group1 Torsions 2                                                                         None\n                    OpenFF Group1 Torsions 3                                                                         None\n                    OpenFF Primary Benchmark 1 Torsion Set                                                           None\n                    OpenFF Primary Benchmark 2 Torsion Set                                                           None\n                    OpenFF Primary TorsionDrive Benchmark 1                                                          None\n                    OpenFF Protein Fragments TorsionDrives v1.0         Torsiondrives for selected dihedrals of variou...\n                    OpenFF Rowley Biaryl v1.0                                          Torsiondrives of biaryl molecules.\n                    OpenFF Substituted Phenyl Set 1                                                                  None\n                    OpenFF Substituted Phenyl Set 1 v2.0                Torsiondrives for selected dihedrals of variou...\n                    OpenFF Theory Benchmarking Set B3LYP-D3BJ 6-31+Gss  Torsiondrives for benchmarking B3LYP-D3BJ/6-31...\n                    OpenFF Theory Benchmarking Set B3LYP-D3BJ DZVP ...     Torsiondrives for benchmarking B3LYP-D3BJ/DZVP\n                    OpenFF Theory Benchmarking Set B3LYP-D3BJ def2-...  Torsiondrives for benchmarking B3LYP-D3BJ/def2...\n                    OpenFF Theory Benchmarking Set B3LYP-D3BJ def2-...  Torsiondrives for benchmarking B3LYP-D3BJ/def2...\n                    OpenFF Theory Benchmarking Set B3LYP-D3BJ def2-...  Torsiondrives for benchmarking B3LYP-D3BJ/def2...\n                    OpenFF Theory Benchmarking Set B3LYP-D3BJ def2-...  Torsiondrives for benchmarking B3LYP-D3BJ/def2...\n                    OpenFF WBO Conjugated Series v1.0                   A functional series of molecules with varying ...\n                    OpenFF-benchmark-ligand-fragments-v1.0              Fragmented torsiondrives of JACS benchmark inh...\n                    Pfizer Discrepancy Torsion Dataset 1                                                             None\n                    SMIRNOFF Coverage Torsion Set 1                                                                  None\n                    SiliconTX Torsion Benchmark Set 1                                                                None\n                    TorsionDrive Paper                                                                               None",
      "text/html": "<div>\n<style scoped>\n    .dataframe tbody tr th:only-of-type {\n        vertical-align: middle;\n    }\n\n    .dataframe tbody tr th {\n        vertical-align: top;\n    }\n\n    .dataframe thead th {\n        text-align: right;\n    }\n</style>\n<table border=\"1\" class=\"dataframe\">\n  <thead>\n    <tr style=\"text-align: right;\">\n      <th></th>\n      <th></th>\n      <th>tagline</th>\n    </tr>\n    <tr>\n      <th>collection</th>\n      <th>name</th>\n      <th></th>\n    </tr>\n  </thead>\n  <tbody>\n    <tr>\n      <th rowspan=\"39\" valign=\"top\">TorsionDriveDataset</th>\n      <th>Fragment Stability Benchmark</th>\n      <td>None</td>\n    </tr>\n    <tr>\n      <th>Fragmenter paper</th>\n      <td>None</td>\n    </tr>\n    <tr>\n      <th>OpenFF DANCE 1 eMolecules t142 v1.0</th>\n      <td>None</td>\n    </tr>\n    <tr>\n      <th>OpenFF Fragmenter Validation 1.0</th>\n      <td>None</td>\n    </tr>\n    <tr>\n      <th>OpenFF Full TorsionDrive Benchmark 1</th>\n      <td>None</td>\n    </tr>\n    <tr>\n      <th>OpenFF Gen 2 Torsion Set 1 Roche</th>\n      <td>None</td>\n    </tr>\n    <tr>\n      <th>OpenFF Gen 2 Torsion Set 1 Roche 2</th>\n      <td>None</td>\n    </tr>\n    <tr>\n      <th>OpenFF Gen 2 Torsion Set 2 Coverage</th>\n      <td>None</td>\n    </tr>\n    <tr>\n      <th>OpenFF Gen 2 Torsion Set 2 Coverage 2</th>\n      <td>None</td>\n    </tr>\n    <tr>\n      <th>OpenFF Gen 2 Torsion Set 3 Pfizer Discrepancy</th>\n      <td>None</td>\n    </tr>\n    <tr>\n      <th>OpenFF Gen 2 Torsion Set 3 Pfizer Discrepancy 2</th>\n      <td>None</td>\n    </tr>\n    <tr>\n      <th>OpenFF Gen 2 Torsion Set 4 eMolecules Discrepancy</th>\n      <td>None</td>\n    </tr>\n    <tr>\n      <th>OpenFF Gen 2 Torsion Set 4 eMolecules Discrepancy 2</th>\n      <td>None</td>\n    </tr>\n    <tr>\n      <th>OpenFF Gen 2 Torsion Set 5 Bayer</th>\n      <td>None</td>\n    </tr>\n    <tr>\n      <th>OpenFF Gen 2 Torsion Set 5 Bayer 2</th>\n      <td>None</td>\n    </tr>\n    <tr>\n      <th>OpenFF Gen 2 Torsion Set 6 Supplemental</th>\n      <td>None</td>\n    </tr>\n    <tr>\n      <th>OpenFF Gen 2 Torsion Set 6 Supplemental 2</th>\n      <td>None</td>\n    </tr>\n    <tr>\n      <th>OpenFF Group1 Torsions</th>\n      <td>None</td>\n    </tr>\n    <tr>\n      <th>OpenFF Group1 Torsions 2</th>\n      <td>None</td>\n    </tr>\n    <tr>\n      <th>OpenFF Group1 Torsions 3</th>\n      <td>None</td>\n    </tr>\n    <tr>\n      <th>OpenFF Primary Benchmark 1 Torsion Set</th>\n      <td>None</td>\n    </tr>\n    <tr>\n      <th>OpenFF Primary Benchmark 2 Torsion Set</th>\n      <td>None</td>\n    </tr>\n    <tr>\n      <th>OpenFF Primary TorsionDrive Benchmark 1</th>\n      <td>None</td>\n    </tr>\n    <tr>\n      <th>OpenFF Protein Fragments TorsionDrives v1.0</th>\n      <td>Torsiondrives for selected dihedrals of variou...</td>\n    </tr>\n    <tr>\n      <th>OpenFF Rowley Biaryl v1.0</th>\n      <td>Torsiondrives of biaryl molecules.</td>\n    </tr>\n    <tr>\n      <th>OpenFF Substituted Phenyl Set 1</th>\n      <td>None</td>\n    </tr>\n    <tr>\n      <th>OpenFF Substituted Phenyl Set 1 v2.0</th>\n      <td>Torsiondrives for selected dihedrals of variou...</td>\n    </tr>\n    <tr>\n      <th>OpenFF Theory Benchmarking Set B3LYP-D3BJ 6-31+Gss</th>\n      <td>Torsiondrives for benchmarking B3LYP-D3BJ/6-31...</td>\n    </tr>\n    <tr>\n      <th>OpenFF Theory Benchmarking Set B3LYP-D3BJ DZVP v1.0</th>\n      <td>Torsiondrives for benchmarking B3LYP-D3BJ/DZVP</td>\n    </tr>\n    <tr>\n      <th>OpenFF Theory Benchmarking Set B3LYP-D3BJ def2-TZVP v1.0</th>\n      <td>Torsiondrives for benchmarking B3LYP-D3BJ/def2...</td>\n    </tr>\n    <tr>\n      <th>OpenFF Theory Benchmarking Set B3LYP-D3BJ def2-TZVPD v1.0</th>\n      <td>Torsiondrives for benchmarking B3LYP-D3BJ/def2...</td>\n    </tr>\n    <tr>\n      <th>OpenFF Theory Benchmarking Set B3LYP-D3BJ def2-TZVPP v1.0</th>\n      <td>Torsiondrives for benchmarking B3LYP-D3BJ/def2...</td>\n    </tr>\n    <tr>\n      <th>OpenFF Theory Benchmarking Set B3LYP-D3BJ def2-TZVPPD</th>\n      <td>Torsiondrives for benchmarking B3LYP-D3BJ/def2...</td>\n    </tr>\n    <tr>\n      <th>OpenFF WBO Conjugated Series v1.0</th>\n      <td>A functional series of molecules with varying ...</td>\n    </tr>\n    <tr>\n      <th>OpenFF-benchmark-ligand-fragments-v1.0</th>\n      <td>Fragmented torsiondrives of JACS benchmark inh...</td>\n    </tr>\n    <tr>\n      <th>Pfizer Discrepancy Torsion Dataset 1</th>\n      <td>None</td>\n    </tr>\n    <tr>\n      <th>SMIRNOFF Coverage Torsion Set 1</th>\n      <td>None</td>\n    </tr>\n    <tr>\n      <th>SiliconTX Torsion Benchmark Set 1</th>\n      <td>None</td>\n    </tr>\n    <tr>\n      <th>TorsionDrive Paper</th>\n      <td>None</td>\n    </tr>\n  </tbody>\n</table>\n</div>"
     },
     "execution_count": 6,
     "metadata": {},
     "output_type": "execute_result"
    }
   ],
   "source": [
    "# connect to qcarchive and get the name of the dataset\n",
    "client = FractalClient()\n",
    "client.list_collections(\"torsiondrivedataset\")"
   ]
  },
  {
   "cell_type": "code",
   "execution_count": 7,
   "metadata": {},
   "outputs": [
    {
     "name": "stdout",
     "output_type": "stream",
     "text": [
      "requested optimizations 2088\n",
      "requested molecules 2088\n",
      "requested results 2088\n"
     ]
    }
   ],
   "source": [
    "# lets pull down the rowley biaryl set\n",
    "# note only complete optimizations will be collected\n",
    "results = TorsionDriveCollectionResult.from_server(client=client, spec_name=\"default\", dataset_name=\"OpenFF Rowley Biaryl v1.0\", final_molecule_only=True)"
   ]
  },
  {
   "cell_type": "code",
   "execution_count": 10,
   "metadata": {},
   "outputs": [
    {
     "name": "stderr",
     "output_type": "stream",
     "text": [
      "Building Fitting Schema : 100%|█████████████████| 87/87 [00:06<00:00, 13.69it/s]\n"
     ]
    }
   ],
   "source": [
    "# now we can make the fitting schema from the results\n",
    "schema = workflow.fitting_schema_from_results(results=results, combine=False)"
   ]
  },
  {
   "cell_type": "code",
   "execution_count": 11,
   "metadata": {},
   "outputs": [
    {
     "data": {
      "text/plain": [
       "87"
      ]
     },
     "execution_count": 11,
     "metadata": {},
     "output_type": "execute_result"
    }
   ],
   "source": [
    "# we have found 87 unqiue torsiondrives \n",
    "schema.n_molecules"
   ]
  },
  {
   "cell_type": "code",
   "execution_count": 15,
   "metadata": {},
   "outputs": [
    {
     "data": {
      "text/plain": [
       "[TorsionSmirks(atoms={(7, 8, 9, 11)}, smirks='[#6aH1X3x2r6+0:1](-!@[#1AH0X1x0!r+0])(:@[#7aH0X2x2r6+0]):@[#6aH0X3x2r6+0:2](:@[#6aH1X3x2r6+0])-!@[#6aH0X3x2r6+0:3](:@[#6aH1X3x2r6+0]):@[#7aH0X2x2r6+0:4]:@[#6aH1X3x2r6+0]', type=<SmirksType.ProperTorsions: 'ProperTorsions'>, parameterize=set(), terms={'2': TorsionTerm(periodicity='2', phase='180.0 * degree', k='1.048715180139 * mole**-1 * kilocalorie', idivf='1'), '1': TorsionTerm(periodicity='1', phase='0 * degree', k='1e-06 * mole**-1 * kilocalorie', idivf='1.0'), '3': TorsionTerm(periodicity='3', phase='0 * degree', k='1e-06 * mole**-1 * kilocalorie', idivf='1.0'), '4': TorsionTerm(periodicity='4', phase='180 * degree', k='1e-06 * mole**-1 * kilocalorie', idivf='1.0')}),\n",
       " TorsionSmirks(atoms={(7, 8, 9, 4)}, smirks='[#6aH1X3x2r6+0:1](-!@[#1AH0X1x0!r+0])(:@[#7aH0X2x2r6+0]):@[#6aH0X3x2r6+0:2](:@[#6aH1X3x2r6+0])-!@[#6aH0X3x2r6+0:3](:@[#7aH0X2x2r6+0]):@[#6aH1X3x2r6+0:4](-!@[#1AH0X1x0!r+0]):@[#6aH1X3x2r6+0]', type=<SmirksType.ProperTorsions: 'ProperTorsions'>, parameterize=set(), terms={'2': TorsionTerm(periodicity='2', phase='180.0 * degree', k='1.048715180139 * mole**-1 * kilocalorie', idivf='1'), '1': TorsionTerm(periodicity='1', phase='0 * degree', k='1e-06 * mole**-1 * kilocalorie', idivf='1.0'), '3': TorsionTerm(periodicity='3', phase='0 * degree', k='1e-06 * mole**-1 * kilocalorie', idivf='1.0'), '4': TorsionTerm(periodicity='4', phase='180 * degree', k='1e-06 * mole**-1 * kilocalorie', idivf='1.0')}),\n",
       " TorsionSmirks(atoms={(3, 8, 9, 11)}, smirks='[#6aH1X3x2r6+0:1](-!@[#1AH0X1x0!r+0])(:@[#6aH1X3x2r6+0]):@[#6aH0X3x2r6+0:2](:@[#6aH1X3x2r6+0])-!@[#6aH0X3x2r6+0:3](:@[#6aH1X3x2r6+0]):@[#7aH0X2x2r6+0:4]:@[#6aH1X3x2r6+0]', type=<SmirksType.ProperTorsions: 'ProperTorsions'>, parameterize=set(), terms={'2': TorsionTerm(periodicity='2', phase='180.0 * degree', k='1.048715180139 * mole**-1 * kilocalorie', idivf='1'), '1': TorsionTerm(periodicity='1', phase='0 * degree', k='1e-06 * mole**-1 * kilocalorie', idivf='1.0'), '3': TorsionTerm(periodicity='3', phase='0 * degree', k='1e-06 * mole**-1 * kilocalorie', idivf='1.0'), '4': TorsionTerm(periodicity='4', phase='180 * degree', k='1e-06 * mole**-1 * kilocalorie', idivf='1.0')}),\n",
       " TorsionSmirks(atoms={(3, 8, 9, 4)}, smirks='[#6aH1X3x2r6+0:1](-!@[#1AH0X1x0!r+0])(:@[#6aH1X3x2r6+0]):@[#6aH0X3x2r6+0:2](:@[#6aH1X3x2r6+0])-!@[#6aH0X3x2r6+0:3](:@[#7aH0X2x2r6+0]):@[#6aH1X3x2r6+0:4](-!@[#1AH0X1x0!r+0]):@[#6aH1X3x2r6+0]', type=<SmirksType.ProperTorsions: 'ProperTorsions'>, parameterize=set(), terms={'2': TorsionTerm(periodicity='2', phase='180.0 * degree', k='1.048715180139 * mole**-1 * kilocalorie', idivf='1'), '1': TorsionTerm(periodicity='1', phase='0 * degree', k='1e-06 * mole**-1 * kilocalorie', idivf='1.0'), '3': TorsionTerm(periodicity='3', phase='0 * degree', k='1e-06 * mole**-1 * kilocalorie', idivf='1.0'), '4': TorsionTerm(periodicity='4', phase='180 * degree', k='1e-06 * mole**-1 * kilocalorie', idivf='1.0')})]"
      ]
     },
     "execution_count": 15,
     "metadata": {},
     "output_type": "execute_result"
    }
   ],
   "source": [
    "# each task has smirks that will be fit\n",
    "# the atoms are the atoms that will be hit in the molecule\n",
    "# Note the terms have been expanded to k4 if you do not want this see the workflow options\n",
    "schema.tasks[0].target_smirks"
   ]
  },
  {
   "cell_type": "code",
   "execution_count": 16,
   "metadata": {},
   "outputs": [
    {
     "data": {
      "application/vnd.jupyter.widget-view+json": {
       "model_id": "e6b61835f7564dc798e9335a689ead4c",
       "version_major": 2,
       "version_minor": 0
      },
      "text/plain": []
     },
     "metadata": {},
     "output_type": "display_data"
    },
    {
     "data": {
      "image/png": "[encoded data removed]",
      "text/plain": [
       "<rdkit.Chem.rdchem.Mol at 0x7ff8c7e564f0>"
      ]
     },
     "metadata": {},
     "output_type": "display_data"
    }
   ],
   "source": [
    "# we can inspect the molecule\n",
    "# there are 4 dihedrals for this molecules as the smirks encode 1 extra layer out from \n",
    "# the target atoms\n",
    "schema.tasks[0].target_molecule.molecule"
   ]
  },
  {
   "cell_type": "code",
   "execution_count": 17,
   "metadata": {},
   "outputs": [],
   "source": [
    "# save the schema to file make sure to compress \n",
    "schema.export_schema(\"rowley.json.xz\")"
   ]
  },
  {
   "cell_type": "code",
   "execution_count": null,
   "metadata": {},
   "outputs": [],
   "source": []
  }
 ],
 "metadata": {
  "kernelspec": {
   "display_name": "Python 3",
   "language": "python",
   "name": "python3"
  },
  "language_info": {
   "codemirror_mode": {
    "name": "ipython",
    "version": 3
   },
   "file_extension": ".py",
   "mimetype": "text/x-python",
   "name": "python",
   "nbconvert_exporter": "python",
   "pygments_lexer": "ipython3",
   "version": "3.7.8"
  }
 },
 "nbformat": 4,
 "nbformat_minor": 4
}