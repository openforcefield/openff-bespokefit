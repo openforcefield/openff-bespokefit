{
 "cells": [
  {
   "cell_type": "code",
   "execution_count": 1,
   "metadata": {},
   "outputs": [],
   "source": [
    "from openff.qcsubmit.results import TorsionDriveResultCollection\n",
    "from openff.bespokefit.workflows import BespokeWorkflowFactory\n",
    "from openff.bespokefit.schema.optimizers import ForceBalanceSchema\n",
    "from openff.bespokefit.schema.targets import TorsionProfileTargetSchema\n",
    "from qcportal import FractalClient"
   ]
  },
  {
   "cell_type": "code",
   "execution_count": 2,
   "metadata": {},
   "outputs": [],
   "source": [
    "# build the fitting schema\n",
    "workflow = BespokeWorkflowFactory(initial_forcefield=\"openff_unconstrained-1.3.0.offxml\")"
   ]
  },
  {
   "cell_type": "code",
   "execution_count": 3,
   "metadata": {},
   "outputs": [
    {
     "data": {
      "text/plain": [
       "{'type': 'ForceBalance',\n",
       " 'max_iterations': 10,\n",
       " 'job_type': 'optimize',\n",
       " 'penalty_type': 'L2',\n",
       " 'step_convergence_threshold': 0.01,\n",
       " 'objective_convergence_threshold': 0.01,\n",
       " 'gradient_convergence_threshold': 0.01,\n",
       " 'n_criteria': 2,\n",
       " 'eigenvalue_lower_bound': 0.01,\n",
       " 'finite_difference_h': 0.01,\n",
       " 'penalty_additive': 1.0,\n",
       " 'initial_trust_radius': -0.25,\n",
       " 'minimum_trust_radius': 0.05,\n",
       " 'error_tolerance': 1.0,\n",
       " 'adaptive_factor': 0.2,\n",
       " 'adaptive_damping': 1.0,\n",
       " 'normalize_weights': False,\n",
       " 'extras': {}}"
      ]
     },
     "execution_count": 3,
     "metadata": {},
     "output_type": "execute_result"
    }
   ],
   "source": [
    "# build the optimizer and settings\n",
    "fb = ForceBalanceSchema()\n",
    "fb.dict()"
   ]
  },
  {
   "cell_type": "code",
   "execution_count": 4,
   "metadata": {},
   "outputs": [],
   "source": [
    "# make a target, the settings should be fine\n",
    "target = TorsionProfileTargetSchema()"
   ]
  },
  {
   "cell_type": "code",
   "execution_count": 5,
   "metadata": {},
   "outputs": [
    {
     "data": {
      "text/plain": [
       "{'initial_force_field': 'openff_unconstrained-1.3.0.offxml',\n",
       " 'optimizer': {'type': 'ForceBalance',\n",
       "  'max_iterations': 10,\n",
       "  'job_type': 'optimize',\n",
       "  'penalty_type': 'L2',\n",
       "  'step_convergence_threshold': 0.01,\n",
       "  'objective_convergence_threshold': 0.01,\n",
       "  'gradient_convergence_threshold': 0.01,\n",
       "  'n_criteria': 2,\n",
       "  'eigenvalue_lower_bound': 0.01,\n",
       "  'finite_difference_h': 0.01,\n",
       "  'penalty_additive': 1.0,\n",
       "  'initial_trust_radius': -0.25,\n",
       "  'minimum_trust_radius': 0.05,\n",
       "  'error_tolerance': 1.0,\n",
       "  'adaptive_factor': 0.2,\n",
       "  'adaptive_damping': 1.0,\n",
       "  'normalize_weights': False,\n",
       "  'extras': {}},\n",
       " 'target_templates': [{'weight': 1.0,\n",
       "   'reference_data': None,\n",
       "   'extras': {},\n",
       "   'type': 'TorsionProfile',\n",
       "   'attenuate_weights': True,\n",
       "   'energy_denominator': 1.0,\n",
       "   'energy_cutoff': 10.0}],\n",
       " 'parameter_settings': [{'parameter_type': <SmirksType.ProperTorsions: 'ProperTorsions'>,\n",
       "   'parameter_subtype': 'Proper',\n",
       "   'target': 'k',\n",
       "   'prior': 6.0}],\n",
       " 'target_smirks': [<SmirksType.ProperTorsions: 'ProperTorsions'>],\n",
       " 'expand_torsion_terms': True,\n",
       " 'generate_bespoke_terms': True,\n",
       " 'fragmentation_engine': {'type': 'WBOFragmenter',\n",
       "  'wbo_threshold': 0.03,\n",
       "  'keep_non_rotor_ring_substituents': True}}"
      ]
     },
     "execution_count": 5,
     "metadata": {},
     "output_type": "execute_result"
    }
   ],
   "source": [
    "# put these in the workflow\n",
    "workflow.optimizer = fb\n",
    "workflow.target_templates = [target]\n",
    "# you can see in the settings proper torsions are being targeted with bespoke smirks.\n",
    "workflow.dict()"
   ]
  },
  {
   "cell_type": "code",
   "execution_count": 9,
   "metadata": {},
   "outputs": [
    {
     "data": {
      "text/html": [
       "<div>\n",
       "<style scoped>\n",
       "    .dataframe tbody tr th:only-of-type {\n",
       "        vertical-align: middle;\n",
       "    }\n",
       "\n",
       "    .dataframe tbody tr th {\n",
       "        vertical-align: top;\n",
       "    }\n",
       "\n",
       "    .dataframe thead th {\n",
       "        text-align: right;\n",
       "    }\n",
       "</style>\n",
       "<table border=\"1\" class=\"dataframe\">\n",
       "  <thead>\n",
       "    <tr style=\"text-align: right;\">\n",
       "      <th></th>\n",
       "      <th></th>\n",
       "      <th>tagline</th>\n",
       "    </tr>\n",
       "    <tr>\n",
       "      <th>collection</th>\n",
       "      <th>name</th>\n",
       "      <th></th>\n",
       "    </tr>\n",
       "  </thead>\n",
       "  <tbody>\n",
       "    <tr>\n",
       "      <th rowspan=\"43\" valign=\"top\">TorsionDriveDataset</th>\n",
       "      <th>Fragment Stability Benchmark</th>\n",
       "      <td>None</td>\n",
       "    </tr>\n",
       "    <tr>\n",
       "      <th>Fragmenter paper</th>\n",
       "      <td>None</td>\n",
       "    </tr>\n",
       "    <tr>\n",
       "      <th>OpenFF Amide Torsion Set v1.0</th>\n",
       "      <td>Amides, thioamides and amidines diversely func...</td>\n",
       "    </tr>\n",
       "    <tr>\n",
       "      <th>OpenFF Aniline 2D Impropers v1.0</th>\n",
       "      <td>Substituted aniline derivatives with various e...</td>\n",
       "    </tr>\n",
       "    <tr>\n",
       "      <th>OpenFF DANCE 1 eMolecules t142 v1.0</th>\n",
       "      <td>None</td>\n",
       "    </tr>\n",
       "    <tr>\n",
       "      <th>OpenFF Fragmenter Validation 1.0</th>\n",
       "      <td>None</td>\n",
       "    </tr>\n",
       "    <tr>\n",
       "      <th>OpenFF Full TorsionDrive Benchmark 1</th>\n",
       "      <td>None</td>\n",
       "    </tr>\n",
       "    <tr>\n",
       "      <th>OpenFF Gen 2 Torsion Set 1 Roche</th>\n",
       "      <td>None</td>\n",
       "    </tr>\n",
       "    <tr>\n",
       "      <th>OpenFF Gen 2 Torsion Set 1 Roche 2</th>\n",
       "      <td>None</td>\n",
       "    </tr>\n",
       "    <tr>\n",
       "      <th>OpenFF Gen 2 Torsion Set 2 Coverage</th>\n",
       "      <td>None</td>\n",
       "    </tr>\n",
       "    <tr>\n",
       "      <th>OpenFF Gen 2 Torsion Set 2 Coverage 2</th>\n",
       "      <td>None</td>\n",
       "    </tr>\n",
       "    <tr>\n",
       "      <th>OpenFF Gen 2 Torsion Set 3 Pfizer Discrepancy</th>\n",
       "      <td>None</td>\n",
       "    </tr>\n",
       "    <tr>\n",
       "      <th>OpenFF Gen 2 Torsion Set 3 Pfizer Discrepancy 2</th>\n",
       "      <td>None</td>\n",
       "    </tr>\n",
       "    <tr>\n",
       "      <th>OpenFF Gen 2 Torsion Set 4 eMolecules Discrepancy</th>\n",
       "      <td>None</td>\n",
       "    </tr>\n",
       "    <tr>\n",
       "      <th>OpenFF Gen 2 Torsion Set 4 eMolecules Discrepancy 2</th>\n",
       "      <td>None</td>\n",
       "    </tr>\n",
       "    <tr>\n",
       "      <th>OpenFF Gen 2 Torsion Set 5 Bayer</th>\n",
       "      <td>None</td>\n",
       "    </tr>\n",
       "    <tr>\n",
       "      <th>OpenFF Gen 2 Torsion Set 5 Bayer 2</th>\n",
       "      <td>None</td>\n",
       "    </tr>\n",
       "    <tr>\n",
       "      <th>OpenFF Gen 2 Torsion Set 6 Supplemental</th>\n",
       "      <td>None</td>\n",
       "    </tr>\n",
       "    <tr>\n",
       "      <th>OpenFF Gen 2 Torsion Set 6 Supplemental 2</th>\n",
       "      <td>None</td>\n",
       "    </tr>\n",
       "    <tr>\n",
       "      <th>OpenFF Gen3 Torsion Set v1.0</th>\n",
       "      <td>OpenFF Gen3 Torsion Set v1.0</td>\n",
       "    </tr>\n",
       "    <tr>\n",
       "      <th>OpenFF Group1 Torsions</th>\n",
       "      <td>None</td>\n",
       "    </tr>\n",
       "    <tr>\n",
       "      <th>OpenFF Group1 Torsions 2</th>\n",
       "      <td>None</td>\n",
       "    </tr>\n",
       "    <tr>\n",
       "      <th>OpenFF Group1 Torsions 3</th>\n",
       "      <td>None</td>\n",
       "    </tr>\n",
       "    <tr>\n",
       "      <th>OpenFF Primary Benchmark 1 Torsion Set</th>\n",
       "      <td>None</td>\n",
       "    </tr>\n",
       "    <tr>\n",
       "      <th>OpenFF Primary Benchmark 2 Torsion Set</th>\n",
       "      <td>None</td>\n",
       "    </tr>\n",
       "    <tr>\n",
       "      <th>OpenFF Primary TorsionDrive Benchmark 1</th>\n",
       "      <td>None</td>\n",
       "    </tr>\n",
       "    <tr>\n",
       "      <th>OpenFF Protein Fragments TorsionDrives v1.0</th>\n",
       "      <td>Torsiondrives for selected dihedrals of variou...</td>\n",
       "    </tr>\n",
       "    <tr>\n",
       "      <th>OpenFF Rowley Biaryl v1.0</th>\n",
       "      <td>Torsiondrives of biaryl molecules.</td>\n",
       "    </tr>\n",
       "    <tr>\n",
       "      <th>OpenFF Substituted Phenyl Set 1</th>\n",
       "      <td>None</td>\n",
       "    </tr>\n",
       "    <tr>\n",
       "      <th>OpenFF Substituted Phenyl Set 1 v2.0</th>\n",
       "      <td>Torsiondrives for selected dihedrals of variou...</td>\n",
       "    </tr>\n",
       "    <tr>\n",
       "      <th>OpenFF Theory Benchmarking Set B3LYP-D3BJ 6-31+Gss</th>\n",
       "      <td>Torsiondrives for benchmarking B3LYP-D3BJ/6-31...</td>\n",
       "    </tr>\n",
       "    <tr>\n",
       "      <th>OpenFF Theory Benchmarking Set B3LYP-D3BJ DZVP v1.0</th>\n",
       "      <td>Torsiondrives for benchmarking B3LYP-D3BJ/DZVP</td>\n",
       "    </tr>\n",
       "    <tr>\n",
       "      <th>OpenFF Theory Benchmarking Set B3LYP-D3BJ def2-TZVP v1.0</th>\n",
       "      <td>Torsiondrives for benchmarking B3LYP-D3BJ/def2...</td>\n",
       "    </tr>\n",
       "    <tr>\n",
       "      <th>OpenFF Theory Benchmarking Set B3LYP-D3BJ def2-TZVPD v1.0</th>\n",
       "      <td>Torsiondrives for benchmarking B3LYP-D3BJ/def2...</td>\n",
       "    </tr>\n",
       "    <tr>\n",
       "      <th>OpenFF Theory Benchmarking Set B3LYP-D3BJ def2-TZVPP v1.0</th>\n",
       "      <td>Torsiondrives for benchmarking B3LYP-D3BJ/def2...</td>\n",
       "    </tr>\n",
       "    <tr>\n",
       "      <th>OpenFF Theory Benchmarking Set B3LYP-D3BJ def2-TZVPPD</th>\n",
       "      <td>Torsiondrives for benchmarking B3LYP-D3BJ/def2...</td>\n",
       "    </tr>\n",
       "    <tr>\n",
       "      <th>OpenFF Theory Benchmarking Set v1.0</th>\n",
       "      <td>Torsiondrives for theory benchmarking</td>\n",
       "    </tr>\n",
       "    <tr>\n",
       "      <th>OpenFF WBO Conjugated Series v1.0</th>\n",
       "      <td>A functional series of molecules with varying ...</td>\n",
       "    </tr>\n",
       "    <tr>\n",
       "      <th>OpenFF-benchmark-ligand-fragments-v1.0</th>\n",
       "      <td>Fragmented torsiondrives of JACS benchmark inh...</td>\n",
       "    </tr>\n",
       "    <tr>\n",
       "      <th>Pfizer Discrepancy Torsion Dataset 1</th>\n",
       "      <td>None</td>\n",
       "    </tr>\n",
       "    <tr>\n",
       "      <th>SMIRNOFF Coverage Torsion Set 1</th>\n",
       "      <td>None</td>\n",
       "    </tr>\n",
       "    <tr>\n",
       "      <th>SiliconTX Torsion Benchmark Set 1</th>\n",
       "      <td>None</td>\n",
       "    </tr>\n",
       "    <tr>\n",
       "      <th>TorsionDrive Paper</th>\n",
       "      <td>None</td>\n",
       "    </tr>\n",
       "  </tbody>\n",
       "</table>\n",
       "</div>"
      ],
      "text/plain": [
       "                                                                                                                  tagline\n",
       "collection          name                                                                                                 \n",
       "TorsionDriveDataset Fragment Stability Benchmark                                                                     None\n",
       "                    Fragmenter paper                                                                                 None\n",
       "                    OpenFF Amide Torsion Set v1.0                       Amides, thioamides and amidines diversely func...\n",
       "                    OpenFF Aniline 2D Impropers v1.0                    Substituted aniline derivatives with various e...\n",
       "                    OpenFF DANCE 1 eMolecules t142 v1.0                                                              None\n",
       "                    OpenFF Fragmenter Validation 1.0                                                                 None\n",
       "                    OpenFF Full TorsionDrive Benchmark 1                                                             None\n",
       "                    OpenFF Gen 2 Torsion Set 1 Roche                                                                 None\n",
       "                    OpenFF Gen 2 Torsion Set 1 Roche 2                                                               None\n",
       "                    OpenFF Gen 2 Torsion Set 2 Coverage                                                              None\n",
       "                    OpenFF Gen 2 Torsion Set 2 Coverage 2                                                            None\n",
       "                    OpenFF Gen 2 Torsion Set 3 Pfizer Discrepancy                                                    None\n",
       "                    OpenFF Gen 2 Torsion Set 3 Pfizer Discrepancy 2                                                  None\n",
       "                    OpenFF Gen 2 Torsion Set 4 eMolecules Discrepancy                                                None\n",
       "                    OpenFF Gen 2 Torsion Set 4 eMolecules Discrepan...                                               None\n",
       "                    OpenFF Gen 2 Torsion Set 5 Bayer                                                                 None\n",
       "                    OpenFF Gen 2 Torsion Set 5 Bayer 2                                                               None\n",
       "                    OpenFF Gen 2 Torsion Set 6 Supplemental                                                          None\n",
       "                    OpenFF Gen 2 Torsion Set 6 Supplemental 2                                                        None\n",
       "                    OpenFF Gen3 Torsion Set v1.0                                             OpenFF Gen3 Torsion Set v1.0\n",
       "                    OpenFF Group1 Torsions                                                                           None\n",
       "                    OpenFF Group1 Torsions 2                                                                         None\n",
       "                    OpenFF Group1 Torsions 3                                                                         None\n",
       "                    OpenFF Primary Benchmark 1 Torsion Set                                                           None\n",
       "                    OpenFF Primary Benchmark 2 Torsion Set                                                           None\n",
       "                    OpenFF Primary TorsionDrive Benchmark 1                                                          None\n",
       "                    OpenFF Protein Fragments TorsionDrives v1.0         Torsiondrives for selected dihedrals of variou...\n",
       "                    OpenFF Rowley Biaryl v1.0                                          Torsiondrives of biaryl molecules.\n",
       "                    OpenFF Substituted Phenyl Set 1                                                                  None\n",
       "                    OpenFF Substituted Phenyl Set 1 v2.0                Torsiondrives for selected dihedrals of variou...\n",
       "                    OpenFF Theory Benchmarking Set B3LYP-D3BJ 6-31+Gss  Torsiondrives for benchmarking B3LYP-D3BJ/6-31...\n",
       "                    OpenFF Theory Benchmarking Set B3LYP-D3BJ DZVP ...     Torsiondrives for benchmarking B3LYP-D3BJ/DZVP\n",
       "                    OpenFF Theory Benchmarking Set B3LYP-D3BJ def2-...  Torsiondrives for benchmarking B3LYP-D3BJ/def2...\n",
       "                    OpenFF Theory Benchmarking Set B3LYP-D3BJ def2-...  Torsiondrives for benchmarking B3LYP-D3BJ/def2...\n",
       "                    OpenFF Theory Benchmarking Set B3LYP-D3BJ def2-...  Torsiondrives for benchmarking B3LYP-D3BJ/def2...\n",
       "                    OpenFF Theory Benchmarking Set B3LYP-D3BJ def2-...  Torsiondrives for benchmarking B3LYP-D3BJ/def2...\n",
       "                    OpenFF Theory Benchmarking Set v1.0                             Torsiondrives for theory benchmarking\n",
       "                    OpenFF WBO Conjugated Series v1.0                   A functional series of molecules with varying ...\n",
       "                    OpenFF-benchmark-ligand-fragments-v1.0              Fragmented torsiondrives of JACS benchmark inh...\n",
       "                    Pfizer Discrepancy Torsion Dataset 1                                                             None\n",
       "                    SMIRNOFF Coverage Torsion Set 1                                                                  None\n",
       "                    SiliconTX Torsion Benchmark Set 1                                                                None\n",
       "                    TorsionDrive Paper                                                                               None"
      ]
     },
     "execution_count": 9,
     "metadata": {},
     "output_type": "execute_result"
    }
   ],
   "source": [
    "# connect to qcarchive and get the name of the dataset\n",
    "client = FractalClient()\n",
    "client.list_collections(\"torsiondrivedataset\")"
   ]
  },
  {
   "cell_type": "code",
   "execution_count": 10,
   "metadata": {},
   "outputs": [],
   "source": [
    "# lets pull down the rowley biaryl set\n",
    "# note only complete optimizations will be collected\n",
    "results = TorsionDriveResultCollection.from_server(client, datasets=\"OpenFF Rowley Biaryl v1.0\", spec_name=\"default\")"
   ]
  },
  {
   "cell_type": "code",
   "execution_count": 11,
   "metadata": {},
   "outputs": [
    {
     "name": "stderr",
     "output_type": "stream",
     "text": [
      "Building Fitting Schema : 100%|█████████████████| 87/87 [00:18<00:00,  4.71it/s]\n"
     ]
    }
   ],
   "source": [
    "# now we can make a bespoke fitting schema for each result record\n",
    "schema = workflow.optimization_schemas_from_results(results=results, combine=False)"
   ]
  },
  {
   "cell_type": "code",
   "execution_count": 12,
   "metadata": {},
   "outputs": [
    {
     "data": {
      "text/plain": [
       "87"
      ]
     },
     "execution_count": 12,
     "metadata": {},
     "output_type": "execute_result"
    }
   ],
   "source": [
    "# we have found 87 unqiue torsiondrives and generated 87 unqiue fitting tasks\n",
    "len(schema)"
   ]
  },
  {
   "cell_type": "code",
   "execution_count": 13,
   "metadata": {},
   "outputs": [
    {
     "data": {
      "text/plain": [
       "[BespokeTorsionSmirks(atoms={(3, 8, 9, 4)}, smirks='[#6H1X3x2r6+0a:1](-;!@[#1H0X1x0!r+0A])(:;@[#6H1X3x2r6+0a](-;!@[#1H0X1x0!r+0A]):;@[#6H1X3x2r6+0a](-;!@[#1H0X1x0!r+0A]):;@[#7H0X2x2r6+0a]:;@[#6H1X3x2r6+0a]-;!@[#1H0X1x0!r+0A]):;@[#6H0X3x2r6+0a:2]-;!@[#6H0X3x2r6+0a:3](:;@[#7H0X2x2r6+0a]:;@[#6H1X3x2r6+0a](-;!@[#1H0X1x0!r+0A]):;@[#6H1X3x2r6+0a](-;!@[#1H0X1x0!r+0A]):;@[#6H1X3x2r6+0a]-;!@[#1H0X1x0!r+0A]):;@[#6H1X3x2r6+0a:4]-;!@[#1H0X1x0!r+0A]', type=<SmirksType.ProperTorsions: 'ProperTorsions'>, parameterize=set(), terms={'2': BespokeTorsionTerm(periodicity='2', phase='180.0 * degree', k='1.048715180139 * mole**-1 * kilocalorie', idivf='1'), '1': BespokeTorsionTerm(periodicity='1', phase='0 * degree', k='1e-06 * mole**-1 * kilocalorie', idivf='1.0'), '3': BespokeTorsionTerm(periodicity='3', phase='0 * degree', k='1e-06 * mole**-1 * kilocalorie', idivf='1.0'), '4': BespokeTorsionTerm(periodicity='4', phase='180 * degree', k='1e-06 * mole**-1 * kilocalorie', idivf='1.0')}),\n",
       " BespokeTorsionSmirks(atoms={(3, 8, 9, 11)}, smirks='[#6H1X3x2r6+0a:1](-;!@[#1H0X1x0!r+0A])(:;@[#6H1X3x2r6+0a](-;!@[#1H0X1x0!r+0A]):;@[#6H1X3x2r6+0a](-;!@[#1H0X1x0!r+0A]):;@[#7H0X2x2r6+0a]:;@[#6H1X3x2r6+0a]-;!@[#1H0X1x0!r+0A]):;@[#6H0X3x2r6+0a:2]-;!@[#6H0X3x2r6+0a:3](:;@[#6H1X3x2r6+0a](-;!@[#1H0X1x0!r+0A]):;@[#6H1X3x2r6+0a](-;!@[#1H0X1x0!r+0A]):;@[#6H1X3x2r6+0a](-;!@[#1H0X1x0!r+0A]):;@[#6H1X3x2r6+0a]-;!@[#1H0X1x0!r+0A]):;@[#7H0X2x2r6+0a:4]', type=<SmirksType.ProperTorsions: 'ProperTorsions'>, parameterize=set(), terms={'2': BespokeTorsionTerm(periodicity='2', phase='180.0 * degree', k='1.048715180139 * mole**-1 * kilocalorie', idivf='1'), '1': BespokeTorsionTerm(periodicity='1', phase='0 * degree', k='1e-06 * mole**-1 * kilocalorie', idivf='1.0'), '3': BespokeTorsionTerm(periodicity='3', phase='0 * degree', k='1e-06 * mole**-1 * kilocalorie', idivf='1.0'), '4': BespokeTorsionTerm(periodicity='4', phase='180 * degree', k='1e-06 * mole**-1 * kilocalorie', idivf='1.0')}),\n",
       " BespokeTorsionSmirks(atoms={(7, 8, 9, 4)}, smirks='[#6H1X3x2r6+0a:1](-;!@[#1H0X1x0!r+0A])(:;@[#7H0X2x2r6+0a]:;@[#6H1X3x2r6+0a](-;!@[#1H0X1x0!r+0A]):;@[#6H1X3x2r6+0a](-;!@[#1H0X1x0!r+0A]):;@[#6H1X3x2r6+0a]-;!@[#1H0X1x0!r+0A]):;@[#6H0X3x2r6+0a:2]-;!@[#6H0X3x2r6+0a:3](:;@[#7H0X2x2r6+0a]:;@[#6H1X3x2r6+0a](-;!@[#1H0X1x0!r+0A]):;@[#6H1X3x2r6+0a](-;!@[#1H0X1x0!r+0A]):;@[#6H1X3x2r6+0a]-;!@[#1H0X1x0!r+0A]):;@[#6H1X3x2r6+0a:4]-;!@[#1H0X1x0!r+0A]', type=<SmirksType.ProperTorsions: 'ProperTorsions'>, parameterize=set(), terms={'2': BespokeTorsionTerm(periodicity='2', phase='180.0 * degree', k='1.048715180139 * mole**-1 * kilocalorie', idivf='1'), '1': BespokeTorsionTerm(periodicity='1', phase='0 * degree', k='1e-06 * mole**-1 * kilocalorie', idivf='1.0'), '3': BespokeTorsionTerm(periodicity='3', phase='0 * degree', k='1e-06 * mole**-1 * kilocalorie', idivf='1.0'), '4': BespokeTorsionTerm(periodicity='4', phase='180 * degree', k='1e-06 * mole**-1 * kilocalorie', idivf='1.0')}),\n",
       " BespokeTorsionSmirks(atoms={(7, 8, 9, 11)}, smirks='[#6H1X3x2r6+0a:1](-;!@[#1H0X1x0!r+0A])(:;@[#7H0X2x2r6+0a]:;@[#6H1X3x2r6+0a](-;!@[#1H0X1x0!r+0A]):;@[#6H1X3x2r6+0a](-;!@[#1H0X1x0!r+0A]):;@[#6H1X3x2r6+0a]-;!@[#1H0X1x0!r+0A]):;@[#6H0X3x2r6+0a:2]-;!@[#6H0X3x2r6+0a:3](:;@[#6H1X3x2r6+0a](-;!@[#1H0X1x0!r+0A]):;@[#6H1X3x2r6+0a](-;!@[#1H0X1x0!r+0A]):;@[#6H1X3x2r6+0a](-;!@[#1H0X1x0!r+0A]):;@[#6H1X3x2r6+0a]-;!@[#1H0X1x0!r+0A]):;@[#7H0X2x2r6+0a:4]', type=<SmirksType.ProperTorsions: 'ProperTorsions'>, parameterize=set(), terms={'2': BespokeTorsionTerm(periodicity='2', phase='180.0 * degree', k='1.048715180139 * mole**-1 * kilocalorie', idivf='1'), '1': BespokeTorsionTerm(periodicity='1', phase='0 * degree', k='1e-06 * mole**-1 * kilocalorie', idivf='1.0'), '3': BespokeTorsionTerm(periodicity='3', phase='0 * degree', k='1e-06 * mole**-1 * kilocalorie', idivf='1.0'), '4': BespokeTorsionTerm(periodicity='4', phase='180 * degree', k='1e-06 * mole**-1 * kilocalorie', idivf='1.0')})]"
      ]
     },
     "execution_count": 13,
     "metadata": {},
     "output_type": "execute_result"
    }
   ],
   "source": [
    "# each task has smirks that will be fit\n",
    "# the atoms are the atoms that will be hit in the molecule\n",
    "# Note the terms have been expanded to k4 if you do not want this see the workflow options\n",
    "schema[0].target_smirks"
   ]
  },
  {
   "cell_type": "code",
   "execution_count": 16,
   "metadata": {},
   "outputs": [
    {
     "data": {
      "text/plain": [
       "MoleculeSchema(attributes=MoleculeAttributes(canonical_smiles='c1ccnc(c1)c2cccnc2', canonical_isomeric_smiles='c1ccnc(c1)c2cccnc2', canonical_explicit_hydrogen_smiles='[H]c1c(c(nc(c1[H])c2c(c(c(nc2[H])[H])[H])[H])[H])[H]', canonical_isomeric_explicit_hydrogen_smiles='[H]c1c(c(nc(c1[H])c2c(c(c(nc2[H])[H])[H])[H])[H])[H]', canonical_isomeric_explicit_hydrogen_mapped_smiles='[H:13][c:1]1[c:2]([c:7]([n:12][c:10]([c:5]1[H:17])[c:9]2[c:4]([c:3]([c:6]([n:11][c:8]2[H:20])[H:18])[H:15])[H:16])[H:19])[H:14]', molecular_formula='C10H8N2', standard_inchi='InChI=1S/C10H8N2/c1-2-7-12-10(5-1)9-4-3-6-11-8-9/h1-8H', inchi_key='VEKIYFGCEAJDDT-UHFFFAOYSA-N', fixed_hydrogen_inchi='InChI=1/C10H8N2/c1-2-7-12-10(5-1)9-4-3-6-11-8-9/h1-8H', fixed_hydrogen_inchi_key='VEKIYFGCEAJDDT-UHFFFAOYNA-N'), task_id='[H]c1c(c(nc(c1[H])c2c(c(c(nc2[H])[H])[H])[H])[H])[H]', fragment_data=[], fragmentation_engine=None)"
      ]
     },
     "execution_count": 16,
     "metadata": {},
     "output_type": "execute_result"
    }
   ],
   "source": [
    "# we can inspect the molecule\n",
    "# there are 4 dihedrals for this molecule\n",
    "schema[0].target_molecule"
   ]
  },
  {
   "cell_type": "code",
   "execution_count": 15,
   "metadata": {},
   "outputs": [],
   "source": [
    "# save the schema to file using the utility function which can seralise a list of schema, make sure to compress \n",
    "from openff.bespokefit.bespoke import serialize_schema\n",
    "serialize_schema(schema, \"rowley.json.xz\")"
   ]
  },
  {
   "cell_type": "code",
   "execution_count": null,
   "metadata": {},
   "outputs": [],
   "source": []
  }
 ],
 "metadata": {
  "kernelspec": {
   "display_name": "Python 3",
   "language": "python",
   "name": "python3"
  },
  "language_info": {
   "codemirror_mode": {
    "name": "ipython",
    "version": 3
   },
   "file_extension": ".py",
   "mimetype": "text/x-python",
   "name": "python",
   "nbconvert_exporter": "python",
   "pygments_lexer": "ipython3",
   "version": "3.7.10"
  }
 },
 "nbformat": 4,
 "nbformat_minor": 4
}
